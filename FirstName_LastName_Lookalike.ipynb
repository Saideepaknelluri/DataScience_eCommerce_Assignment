{
 "cells": [
  {
   "cell_type": "code",
   "execution_count": 5,
   "id": "e763ba35-25a9-4cb4-974a-abfd81e9b51a",
   "metadata": {},
   "outputs": [
    {
     "name": "stdout",
     "output_type": "stream",
     "text": [
      "Lookalike model completed. File saved as 'FirstName_LastName_Lookalike.csv' in Downloads.\n"
     ]
    }
   ],
   "source": [
    "import pandas as pd\n",
    "from sklearn.metrics.pairwise import cosine_similarity\n",
    "from sklearn.preprocessing import StandardScaler\n",
    "\n",
    "# Load the datasets\n",
    "customers = pd.read_csv('Downloads/Customers.csv')\n",
    "transactions = pd.read_csv('Downloads/Transactions.csv')\n",
    "products = pd.read_csv('Downloads/Products.csv')\n",
    "\n",
    "# Preprocessing Customers\n",
    "customers['SignupDate'] = pd.to_datetime(customers['SignupDate'])\n",
    "customers['SignupDays'] = (customers['SignupDate'].max() - customers['SignupDate']).dt.days\n",
    "customer_features = customers[['CustomerID', 'Region', 'SignupDays']]\n",
    "\n",
    "# One-hot encode region for profile representation\n",
    "customer_features = pd.get_dummies(customer_features, columns=['Region'], drop_first=True)\n",
    "\n",
    "# Aggregate Transaction Data\n",
    "transactions_agg = transactions.groupby('CustomerID').agg({\n",
    "    'TotalValue': 'sum',\n",
    "    'Quantity': 'sum'\n",
    "}).reset_index()\n",
    "\n",
    "# Combine Profile and Transaction Data\n",
    "customer_data = pd.merge(customer_features, transactions_agg, on='CustomerID', how='left').fillna(0)\n",
    "\n",
    "# Normalize Data\n",
    "scaler = StandardScaler()\n",
    "customer_data_scaled = pd.DataFrame(\n",
    "    scaler.fit_transform(customer_data.iloc[:, 1:]), \n",
    "    columns=customer_data.columns[1:],\n",
    "    index=customer_data.CustomerID\n",
    ")\n",
    "\n",
    "# Compute Cosine Similarity\n",
    "similarity_matrix = cosine_similarity(customer_data_scaled)\n",
    "similarity_df = pd.DataFrame(similarity_matrix, index=customer_data['CustomerID'], columns=customer_data['CustomerID'])\n",
    "\n",
    "# Recommend Top 3 Lookalikes for the First 20 Customers\n",
    "lookalike_map = {}\n",
    "for customer_id in customers['CustomerID'][:20]:\n",
    "    # Exclude the customer themselves from similarity rankings\n",
    "    similar_customers = similarity_df[customer_id].drop(customer_id).sort_values(ascending=False).head(3)\n",
    "    lookalike_map[customer_id] = [(idx, round(score, 4)) for idx, score in similar_customers.items()]\n",
    "\n",
    "# Save Lookalike Map to CSV\n",
    "lookalike_list = [{'CustomerID': key, 'Lookalikes': value} for key, value in lookalike_map.items()]\n",
    "lookalike_df = pd.DataFrame(lookalike_list)\n",
    "\n",
    "# Save as CSV in Downloads folder\n",
    "lookalike_df.to_csv('~/Downloads/FirstName_LastName_Lookalike.csv', index=False)\n",
    "\n",
    "print(\"Lookalike model completed. File saved as 'FirstName_LastName_Lookalike.csv' in Downloads.\")\n"
   ]
  },
  {
   "cell_type": "code",
   "execution_count": null,
   "id": "5dcc1694-91e7-4948-a864-1d1df04a90ea",
   "metadata": {},
   "outputs": [],
   "source": []
  },
  {
   "cell_type": "code",
   "execution_count": null,
   "id": "9bc0bea8-4a7f-472d-874f-458dd3a979b0",
   "metadata": {},
   "outputs": [],
   "source": []
  }
 ],
 "metadata": {
  "kernelspec": {
   "display_name": "Python 3 (ipykernel)",
   "language": "python",
   "name": "python3"
  },
  "language_info": {
   "codemirror_mode": {
    "name": "ipython",
    "version": 3
   },
   "file_extension": ".py",
   "mimetype": "text/x-python",
   "name": "python",
   "nbconvert_exporter": "python",
   "pygments_lexer": "ipython3",
   "version": "3.11.8"
  }
 },
 "nbformat": 4,
 "nbformat_minor": 5
}
